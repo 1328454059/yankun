{
 "cells": [
  {
   "cell_type": "code",
   "execution_count": 3,
   "metadata": {},
   "outputs": [
    {
     "ename": "IndentationError",
     "evalue": "expected an indented block (<ipython-input-3-fdfdde59ce02>, line 3)",
     "output_type": "error",
     "traceback": [
      "\u001b[1;36m  File \u001b[1;32m\"<ipython-input-3-fdfdde59ce02>\"\u001b[1;36m, line \u001b[1;32m3\u001b[0m\n\u001b[1;33m    return eval(expression)\u001b[0m\n\u001b[1;37m         ^\u001b[0m\n\u001b[1;31mIndentationError\u001b[0m\u001b[1;31m:\u001b[0m expected an indented block\n"
     ]
    }
   ],
   "source": [
    "class Calculator:\n",
    "    def calculate(self,expression):\n",
    "    return eval(expression)\n",
    "class Talker:\n",
    "    def talk(self,value):\n",
    "        print('my value is:',value)\n",
    "class TalkingCalculator(Calculator)\n",
    "    def __init__(self):\n",
    "        self.__talker=Talker()\n",
    "        self.__value=None\n",
    "    def talk(self):\n",
    "        self.__talker.talk(self.__value)\n",
    "    def calculate(self,expression):\n",
    "        self.__value=Calculator.calculate(self,expression)\n",
    "        self.__talker.talk(value)\n",
    "        \n",
    "tc=TalkingCalculator()\n",
    "tc.calculate('1+2*3')"
   ]
  },
  {
   "cell_type": "code",
   "execution_count": 4,
   "metadata": {},
   "outputs": [
    {
     "name": "stdout",
     "output_type": "stream",
     "text": [
      "screwing...\n",
      "cutting...\n"
     ]
    }
   ],
   "source": [
    "class Screwdriver:\n",
    "    def screw(self):\n",
    "        print('screwing...')\n",
    "class Knife:\n",
    "    def cut(self):\n",
    "        print('cutting...')\n",
    "class Swissknife(Screwdriver,Knife):\n",
    "    pass\n",
    "sk=Swissknife()\n",
    "sk.screw()\n",
    "sk.cut()\n"
   ]
  },
  {
   "cell_type": "code",
   "execution_count": 17,
   "metadata": {},
   "outputs": [
    {
     "ename": "TypeError",
     "evalue": "object() takes no parameters",
     "output_type": "error",
     "traceback": [
      "\u001b[1;31m---------------------------------------------------------------------------\u001b[0m",
      "\u001b[1;31mTypeError\u001b[0m                                 Traceback (most recent call last)",
      "\u001b[1;32m<ipython-input-17-45f87435d14f>\u001b[0m in \u001b[0;36m<module>\u001b[1;34m()\u001b[0m\n\u001b[0;32m     13\u001b[0m         \u001b[0mKnife\u001b[0m\u001b[1;33m.\u001b[0m\u001b[0m__init__\u001b[0m\u001b[1;33m(\u001b[0m\u001b[0mself\u001b[0m\u001b[1;33m)\u001b[0m\u001b[1;33m\u001b[0m\u001b[0m\n\u001b[0;32m     14\u001b[0m     \u001b[1;32mpass\u001b[0m\u001b[1;33m\u001b[0m\u001b[0m\n\u001b[1;32m---> 15\u001b[1;33m \u001b[0msk\u001b[0m\u001b[1;33m=\u001b[0m\u001b[0mSwissknife\u001b[0m\u001b[1;33m(\u001b[0m\u001b[1;36m4\u001b[0m\u001b[1;33m)\u001b[0m\u001b[1;33m\u001b[0m\u001b[0m\n\u001b[0m\u001b[0;32m     16\u001b[0m \u001b[0msk\u001b[0m\u001b[1;33m.\u001b[0m\u001b[0mscrew\u001b[0m\u001b[1;33m(\u001b[0m\u001b[1;33m)\u001b[0m\u001b[1;33m\u001b[0m\u001b[0m\n\u001b[0;32m     17\u001b[0m \u001b[0msk\u001b[0m\u001b[1;33m.\u001b[0m\u001b[0mcut\u001b[0m\u001b[1;33m(\u001b[0m\u001b[1;33m)\u001b[0m\u001b[1;33m\u001b[0m\u001b[0m\n",
      "\u001b[1;31mTypeError\u001b[0m: object() takes no parameters"
     ]
    }
   ],
   "source": [
    "class Screwdriver:\n",
    "    def __init__(self,size):\n",
    "        self.size=size\n",
    "     \n",
    "    def screw(self):\n",
    "        print('screwing with a screwdriver of size { }...'.format(self.size))\n",
    "class Knife:\n",
    "    def cut(self):\n",
    "        print('cutting...')\n",
    "class SwissKnife(Screwdriver,Knife):\n",
    "    def __init__(self,screwdriver_size):\n",
    "        Screwdriver.__init__(self,screwdriver_size)\n",
    "        Knife.__init__(self)\n",
    "    pass\n",
    "sk=Swissknife(4)\n",
    "sk.screw()\n",
    "sk.cut()"
   ]
  },
  {
   "cell_type": "code",
   "execution_count": 28,
   "metadata": {},
   "outputs": [
    {
     "ename": "AttributeError",
     "evalue": "'Swissknife' object has no attribute 'add_tool'",
     "output_type": "error",
     "traceback": [
      "\u001b[1;31m---------------------------------------------------------------------------\u001b[0m",
      "\u001b[1;31mAttributeError\u001b[0m                            Traceback (most recent call last)",
      "\u001b[1;32m<ipython-input-28-6057bbe7d968>\u001b[0m in \u001b[0;36m<module>\u001b[1;34m()\u001b[0m\n\u001b[0;32m     20\u001b[0m \u001b[1;33m\u001b[0m\u001b[0m\n\u001b[0;32m     21\u001b[0m \u001b[0msk\u001b[0m\u001b[1;33m=\u001b[0m\u001b[0mSwissknife\u001b[0m\u001b[1;33m(\u001b[0m\u001b[1;33m)\u001b[0m\u001b[1;33m\u001b[0m\u001b[0m\n\u001b[1;32m---> 22\u001b[1;33m \u001b[0msk\u001b[0m\u001b[1;33m.\u001b[0m\u001b[0madd_tool\u001b[0m\u001b[1;33m(\u001b[0m\u001b[1;34m'Knife'\u001b[0m\u001b[1;33m,\u001b[0m\u001b[0mKnife\u001b[0m\u001b[1;33m(\u001b[0m \u001b[1;33m)\u001b[0m\u001b[1;33m)\u001b[0m\u001b[1;33m\u001b[0m\u001b[0m\n\u001b[0m\u001b[0;32m     23\u001b[0m \u001b[0msk\u001b[0m\u001b[1;33m.\u001b[0m\u001b[0madd_tool\u001b[0m\u001b[1;33m(\u001b[0m\u001b[1;34m'Big screwdriver'\u001b[0m\u001b[1;33m,\u001b[0m\u001b[0mscrewdriver\u001b[0m\u001b[1;33m(\u001b[0m\u001b[1;36m10\u001b[0m\u001b[1;33m)\u001b[0m\u001b[1;33m)\u001b[0m\u001b[1;33m\u001b[0m\u001b[0m\n\u001b[0;32m     24\u001b[0m \u001b[0msk\u001b[0m\u001b[1;33m.\u001b[0m\u001b[0madd_tool\u001b[0m\u001b[1;33m(\u001b[0m\u001b[1;34m'Small screwdriver'\u001b[0m\u001b[1;33m,\u001b[0m\u001b[0mscrewdriver\u001b[0m\u001b[1;33m(\u001b[0m\u001b[1;36m4\u001b[0m\u001b[1;33m)\u001b[0m\u001b[1;33m)\u001b[0m\u001b[1;33m\u001b[0m\u001b[0m\n",
      "\u001b[1;31mAttributeError\u001b[0m: 'Swissknife' object has no attribute 'add_tool'"
     ]
    }
   ],
   "source": [
    "class Screwdriver:\n",
    "    def __init__(self,size):\n",
    "        self.size=size\n",
    "     \n",
    "    def screw(self):\n",
    "        print('screwing with a screwdriver of size { }...'.format(self.size))\n",
    "class Knife:\n",
    "    def cut(self):\n",
    "        print('cutting...')\n",
    "class Dog:\n",
    "    def dog(self):\n",
    "        print('chasing a ball')\n",
    "class SwissKnife:\n",
    "    def __init__(self):\n",
    "        self.tools={}\n",
    "    def add_tool(self,name,tool):\n",
    "        \n",
    "        self.tools[name]=tool\n",
    "    def use_tool(self,name):\n",
    "        pass\n",
    "\n",
    "sk=Swissknife()\n",
    "sk.add_tool('Knife',Knife())\n",
    "sk.add_tool('Big screwdriver',screwdriver(10))\n",
    "sk.add_tool('Small screwdriver',screwdriver(4))\n",
    "sk.add_tool('Dog',Dog())\n",
    "sk.use_tool('Knife')\n"
   ]
  },
  {
   "cell_type": "code",
   "execution_count": 26,
   "metadata": {},
   "outputs": [
    {
     "data": {
      "text/plain": [
       "False"
      ]
     },
     "execution_count": 26,
     "metadata": {},
     "output_type": "execute_result"
    }
   ],
   "source": [
    "knife=Knife()\n",
    "hasattr(knife,'work')"
   ]
  },
  {
   "cell_type": "code",
   "execution_count": 33,
   "metadata": {},
   "outputs": [
    {
     "data": {
      "text/plain": [
       "False"
      ]
     },
     "execution_count": 33,
     "metadata": {},
     "output_type": "execute_result"
    }
   ],
   "source": [
    "callable(getattr(Knife,'work',None))#抛出异常"
   ]
  },
  {
   "cell_type": "code",
   "execution_count": 31,
   "metadata": {},
   "outputs": [],
   "source": [
    "setattr(knife,'cut',None)\n"
   ]
  },
  {
   "cell_type": "code",
   "execution_count": 32,
   "metadata": {},
   "outputs": [
    {
     "data": {
      "text/plain": [
       "True"
      ]
     },
     "execution_count": 32,
     "metadata": {},
     "output_type": "execute_result"
    }
   ],
   "source": [
    "callable(getattr(Knife,'cut'))"
   ]
  },
  {
   "cell_type": "code",
   "execution_count": 35,
   "metadata": {},
   "outputs": [
    {
     "data": {
      "text/plain": [
       "mappingproxy({'__module__': '__main__',\n",
       "              'cut': <function __main__.Knife.cut(self)>,\n",
       "              '__dict__': <attribute '__dict__' of 'Knife' objects>,\n",
       "              '__weakref__': <attribute '__weakref__' of 'Knife' objects>,\n",
       "              '__doc__': None})"
      ]
     },
     "execution_count": 35,
     "metadata": {},
     "output_type": "execute_result"
    }
   ],
   "source": [
    "#每一个对象都是一个字典\n",
    "Knife.__dict__"
   ]
  },
  {
   "cell_type": "code",
   "execution_count": 36,
   "metadata": {},
   "outputs": [
    {
     "data": {
      "text/plain": [
       "{'cut': None}"
      ]
     },
     "execution_count": 36,
     "metadata": {},
     "output_type": "execute_result"
    }
   ],
   "source": [
    "knife.__dict__"
   ]
  },
  {
   "cell_type": "code",
   "execution_count": 38,
   "metadata": {},
   "outputs": [],
   "source": [
    "from abc import ABC,abstractmethod\n",
    "\n",
    "class Tool(ABC):#通过一个类，来实现一个接口\n",
    "    @abstractmethod#修饰器\n",
    "    def work(self):\n",
    "        pass"
   ]
  },
  {
   "cell_type": "code",
   "execution_count": 39,
   "metadata": {},
   "outputs": [
    {
     "ename": "TypeError",
     "evalue": "Can't instantiate abstract class Tool with abstract methods work",
     "output_type": "error",
     "traceback": [
      "\u001b[1;31m---------------------------------------------------------------------------\u001b[0m",
      "\u001b[1;31mTypeError\u001b[0m                                 Traceback (most recent call last)",
      "\u001b[1;32m<ipython-input-39-d37a444e0c82>\u001b[0m in \u001b[0;36m<module>\u001b[1;34m()\u001b[0m\n\u001b[1;32m----> 1\u001b[1;33m \u001b[0mtool\u001b[0m\u001b[1;33m=\u001b[0m\u001b[0mTool\u001b[0m\u001b[1;33m(\u001b[0m\u001b[1;33m)\u001b[0m\u001b[1;33m\u001b[0m\u001b[0m\n\u001b[0m",
      "\u001b[1;31mTypeError\u001b[0m: Can't instantiate abstract class Tool with abstract methods work"
     ]
    }
   ],
   "source": [
    "tool=Tool()"
   ]
  },
  {
   "cell_type": "code",
   "execution_count": 42,
   "metadata": {},
   "outputs": [
    {
     "ename": "IndentationError",
     "evalue": "expected an indented block (<ipython-input-42-c56ceefd9138>, line 16)",
     "output_type": "error",
     "traceback": [
      "\u001b[1;36m  File \u001b[1;32m\"<ipython-input-42-c56ceefd9138>\"\u001b[1;36m, line \u001b[1;32m16\u001b[0m\n\u001b[1;33m    class SwissKnife:\u001b[0m\n\u001b[1;37m                     ^\u001b[0m\n\u001b[1;31mIndentationError\u001b[0m\u001b[1;31m:\u001b[0m expected an indented block\n"
     ]
    }
   ],
   "source": [
    "class Screwdriver:\n",
    "    def __init__(self,size):\n",
    "        self.size=size\n",
    "\n",
    "    def work(self):\n",
    "        print('screwing with a screwdriver of size { }...'.format(self.size))\n",
    "class Knife(Tool):\n",
    "    def cut(self):\n",
    "        print('cutting...')\n",
    "class Dog:\n",
    "    def dog(self):\n",
    "        print('chasing a ball')\n",
    "class fork:\n",
    "    def fork(self):\n",
    "        \n",
    "class SwissKnife:\n",
    "    def __init__(self):\n",
    "        self.tools={}\n",
    "    def add_tool(self,name,tool):\n",
    "        if isinstance(tool,Tool):\n",
    "            self.tools[name]=tool\n",
    "        else \n",
    "            print('{} is not a valid tool,not derived from class Tool.'.format(name))\n",
    "            \n",
    "        \n",
    "    def use_tool(self,name):\n",
    "        tool=self.tools.get(name)\n",
    "    print('{}:'.format(name),end='')\n",
    "    if tool is not None:\n",
    "        tool.work()\n",
    "    else:\n",
    "        print('not found.')\n",
    "        \n",
    "sk=Swissknife()\n",
    "sk.add_tool('Knife',Knife())\n",
    "sk.add_tool('Big screwdriver',screwdriver(10))\n",
    "sk.add_tool('Small screwdriver',screwdriver(4))\n",
    "sk.add_tool('Dog',Dog())\n",
    "sk.use_tool('Knife')\n"
   ]
  },
  {
   "cell_type": "code",
   "execution_count": 43,
   "metadata": {},
   "outputs": [
    {
     "ename": "SyntaxError",
     "evalue": "invalid syntax (<ipython-input-43-20602d913196>, line 33)",
     "output_type": "error",
     "traceback": [
      "\u001b[1;36m  File \u001b[1;32m\"<ipython-input-43-20602d913196>\"\u001b[1;36m, line \u001b[1;32m33\u001b[0m\n\u001b[1;33m    def __init__(self,position,direction,symbol='*')\u001b[0m\n\u001b[1;37m                                                    ^\u001b[0m\n\u001b[1;31mSyntaxError\u001b[0m\u001b[1;31m:\u001b[0m invalid syntax\n"
     ]
    }
   ],
   "source": [
    "from time import sleep\n",
    "import random\n",
    "class Bar:\n",
    "    _empty='-'\n",
    "    def __init__(self,length=80):\n",
    "        self.bar=list()\n",
    "        for i in range(0,length):\n",
    "            self.bar.append(Bar.__empty)\n",
    "    def reset(self):\n",
    "        for i in range(len(self.bar)):\n",
    "            self.abr[i]=Bar.__empty\n",
    "    def update(self,ants):\n",
    "        self.reset()\n",
    "        for ant in ants:\n",
    "            if 0<=ant.position<len(self.bar):\n",
    "                self.bar[ant.position]=ant.symbol\n",
    "\n",
    "                \n",
    "    def is_empty(self,ants):\n",
    "        for item in self.bar:\n",
    "            if not item==Bar.__empty:\n",
    "                return False\n",
    "            else:\n",
    "                return True\n",
    "    def show(self):\n",
    "        for ch in self.bar:\n",
    "            print(ch,sep='',end='')\n",
    "        print('',end='\\r')\n",
    "\n",
    "class Ant:\n",
    "    symbols='ABCDEFGHIJKLMNOPQRSTUVWXYZ'\n",
    "    count=0\n",
    "    def __init__(self,position,direction,symbol='*')\n",
    "        self.position=position\n",
    "        self.direction=direction\n",
    "        if symbol is None:\n",
    "            \n",
    "            self.symbol=Ant.symbols[Ant.count]\n",
    "            count+=1#创建了多少只需要编号的mayi\n",
    "        else:\n",
    "            self.symbol=symbol\n",
    "    def move(self):\n",
    "        self.position+=self.direction\n",
    "\n",
    "    def create_random_ant(length=80):\n",
    "        position=random.randint(0,length-1)\n",
    "        direction=random.choice([1,-1])\n",
    "        return Ant(position,direction)\n",
    "   #待补充\n",
    "    def get_ants(self):\n",
    "        return self.ants\n",
    "    \n",
    "bar=Bar(80)\n",
    "ants=Ants(5)\n",
    "    \n",
    "bar.updata(ants.get_ants())    \n",
    "bar.show()    \n",
    "    \n",
    "while not bar.is_empty():\n",
    "    sleep(0.25)\n",
    "    ants.move()\n",
    "    bar.update(ants.get_ants())\n",
    "    bar.show()\n",
    "    "
   ]
  },
  {
   "cell_type": "code",
   "execution_count": 44,
   "metadata": {},
   "outputs": [
    {
     "ename": "Exception",
     "evalue": "system fault.",
     "output_type": "error",
     "traceback": [
      "\u001b[1;31m---------------------------------------------------------------------------\u001b[0m",
      "\u001b[1;31mException\u001b[0m                                 Traceback (most recent call last)",
      "\u001b[1;32m<ipython-input-44-a0a88c00ae20>\u001b[0m in \u001b[0;36m<module>\u001b[1;34m()\u001b[0m\n\u001b[1;32m----> 1\u001b[1;33m \u001b[1;32mraise\u001b[0m \u001b[0mException\u001b[0m\u001b[1;33m(\u001b[0m\u001b[1;34m'system fault.'\u001b[0m\u001b[1;33m)\u001b[0m\u001b[1;33m\u001b[0m\u001b[0m\n\u001b[0m",
      "\u001b[1;31mException\u001b[0m: system fault."
     ]
    }
   ],
   "source": [
    "raise Exception('system fault.')"
   ]
  },
  {
   "cell_type": "code",
   "execution_count": 45,
   "metadata": {},
   "outputs": [
    {
     "ename": "MyExcetion",
     "evalue": "",
     "output_type": "error",
     "traceback": [
      "\u001b[1;31m---------------------------------------------------------------------------\u001b[0m",
      "\u001b[1;31mMyExcetion\u001b[0m                                Traceback (most recent call last)",
      "\u001b[1;32m<ipython-input-45-55271d39f6c5>\u001b[0m in \u001b[0;36m<module>\u001b[1;34m()\u001b[0m\n\u001b[0;32m      1\u001b[0m \u001b[1;32mclass\u001b[0m \u001b[0mMyExcetion\u001b[0m\u001b[1;33m(\u001b[0m\u001b[0mException\u001b[0m\u001b[1;33m)\u001b[0m\u001b[1;33m:\u001b[0m\u001b[1;32mpass\u001b[0m\u001b[1;33m\u001b[0m\u001b[0m\n\u001b[1;32m----> 2\u001b[1;33m \u001b[1;32mraise\u001b[0m \u001b[0mMyExcetion\u001b[0m\u001b[1;33m(\u001b[0m\u001b[1;33m)\u001b[0m\u001b[1;33m\u001b[0m\u001b[0m\n\u001b[0m",
      "\u001b[1;31mMyExcetion\u001b[0m: "
     ]
    }
   ],
   "source": [
    "class MyExcetion(Exception):pass\n",
    "raise MyExcetion()"
   ]
  },
  {
   "cell_type": "code",
   "execution_count": 51,
   "metadata": {},
   "outputs": [
    {
     "name": "stdout",
     "output_type": "stream",
     "text": [
      "please input a number:1\n",
      "please input a number:0\n",
      "The second number cannot be 0!\n"
     ]
    }
   ],
   "source": [
    "try:\n",
    "    x=int(input('please input a number:'))\n",
    "    y=int(input('please input a number:'))\n",
    "    print('{}/{}={}'.format(x,y,x/y))\n",
    "    print('hello')\n",
    "except ZeroDivisionError:\n",
    "    print('The second number cannot be 0!')\n",
    "    "
   ]
  },
  {
   "cell_type": "code",
   "execution_count": 52,
   "metadata": {},
   "outputs": [],
   "source": [
    "def calc(expression,no_throw=False):#try接住抛出的异常\n",
    "    try:\n",
    "        return eval(expression)\n",
    "    except ZeroDivisionError:\n",
    "        if no_throw:\n",
    "            print('Division by zero')\n",
    "        else: raise ValyeError"
   ]
  },
  {
   "cell_type": "code",
   "execution_count": 54,
   "metadata": {},
   "outputs": [
    {
     "ename": "ZeroDivisionError",
     "evalue": "division by zero",
     "output_type": "error",
     "traceback": [
      "\u001b[1;31m---------------------------------------------------------------------------\u001b[0m",
      "\u001b[1;31mZeroDivisionError\u001b[0m                         Traceback (most recent call last)",
      "\u001b[1;32m<ipython-input-54-0afddcb032f4>\u001b[0m in \u001b[0;36m<module>\u001b[1;34m()\u001b[0m\n\u001b[1;32m----> 1\u001b[1;33m \u001b[0mcalc\u001b[0m\u001b[1;33m(\u001b[0m\u001b[1;34m'10/0'\u001b[0m\u001b[1;33m)\u001b[0m\u001b[1;33m\u001b[0m\u001b[0m\n\u001b[0m",
      "\u001b[1;32m<ipython-input-52-3c34b75f137d>\u001b[0m in \u001b[0;36mcalc\u001b[1;34m(expression, no_throw)\u001b[0m\n\u001b[0;32m      1\u001b[0m \u001b[1;32mdef\u001b[0m \u001b[0mcalc\u001b[0m\u001b[1;33m(\u001b[0m\u001b[0mexpression\u001b[0m\u001b[1;33m,\u001b[0m\u001b[0mno_throw\u001b[0m\u001b[1;33m=\u001b[0m\u001b[1;32mFalse\u001b[0m\u001b[1;33m)\u001b[0m\u001b[1;33m:\u001b[0m\u001b[1;33m\u001b[0m\u001b[0m\n\u001b[0;32m      2\u001b[0m     \u001b[1;32mtry\u001b[0m\u001b[1;33m:\u001b[0m\u001b[1;33m\u001b[0m\u001b[0m\n\u001b[1;32m----> 3\u001b[1;33m         \u001b[1;32mreturn\u001b[0m \u001b[0meval\u001b[0m\u001b[1;33m(\u001b[0m\u001b[0mexpression\u001b[0m\u001b[1;33m)\u001b[0m\u001b[1;33m\u001b[0m\u001b[0m\n\u001b[0m\u001b[0;32m      4\u001b[0m     \u001b[1;32mexcept\u001b[0m \u001b[0mZeroDivisionError\u001b[0m\u001b[1;33m:\u001b[0m\u001b[1;33m\u001b[0m\u001b[0m\n\u001b[0;32m      5\u001b[0m         \u001b[1;32mif\u001b[0m \u001b[0mno_throw\u001b[0m\u001b[1;33m:\u001b[0m\u001b[1;33m\u001b[0m\u001b[0m\n",
      "\u001b[1;32m<string>\u001b[0m in \u001b[0;36m<module>\u001b[1;34m()\u001b[0m\n",
      "\u001b[1;31mZeroDivisionError\u001b[0m: division by zero"
     ]
    }
   ],
   "source": [
    "calc('10/0')"
   ]
  },
  {
   "cell_type": "code",
   "execution_count": 55,
   "metadata": {},
   "outputs": [
    {
     "name": "stdout",
     "output_type": "stream",
     "text": [
      "Division by zero\n"
     ]
    }
   ],
   "source": [
    "calc('10/0',True)"
   ]
  },
  {
   "cell_type": "code",
   "execution_count": 57,
   "metadata": {},
   "outputs": [
    {
     "name": "stdout",
     "output_type": "stream",
     "text": [
      "please input a number:a\n",
      "Invalid value\n"
     ]
    }
   ],
   "source": [
    "try:\n",
    "    x=int(input('please input a number:'))\n",
    "    y=int(input('please input a number:'))\n",
    "    print('{}/{}={}'.format(x,y,x/y))\n",
    "    print('hello')\n",
    "except ZeroDivisionError:\n",
    "    print('The second number cannot be 0!')\n",
    "except ValueError:\n",
    "    print('Invalid value')"
   ]
  },
  {
   "cell_type": "code",
   "execution_count": 58,
   "metadata": {},
   "outputs": [
    {
     "name": "stdout",
     "output_type": "stream",
     "text": [
      "please input a number:b\n",
      "invalid literal for int() with base 10: 'b'\n"
     ]
    }
   ],
   "source": [
    "try:\n",
    "    x=int(input('please input a number:'))\n",
    "    y=int(input('please input a number:'))\n",
    "    print('{}/{}={}'.format(x,y,x/y))\n",
    "    print('hello')\n",
    "except (ZeroDivisionError,ValueError) as ex:\n",
    "    print(ex)\n"
   ]
  },
  {
   "cell_type": "code",
   "execution_count": 59,
   "metadata": {},
   "outputs": [
    {
     "name": "stdout",
     "output_type": "stream",
     "text": [
      "please input a number:1\n",
      "please input a number:0\n",
      "division by zero\n"
     ]
    }
   ],
   "source": [
    "try:\n",
    "    x=int(input('please input a number:'))\n",
    "    y=int(input('please input a number:'))\n",
    "    print('{}/{}={}'.format(x,y,x/y))\n",
    "    print('hello')\n",
    "except (ZeroDivisionError,ValueError) as ex:\n",
    "    print(ex)"
   ]
  },
  {
   "cell_type": "code",
   "execution_count": 61,
   "metadata": {},
   "outputs": [
    {
     "name": "stdout",
     "output_type": "stream",
     "text": [
      "please input a number:a\n",
      "invalid literal for int() with base 10: 'a'\n",
      "please input a number:1\n",
      "please input a number:0\n",
      "division by zero\n",
      "please input a number:1\n",
      "please input a number:2\n",
      "1/2=0.5\n",
      "hello\n"
     ]
    }
   ],
   "source": [
    "while True:\n",
    "    try:\n",
    "        x=int(input('please input a number:'))\n",
    "        y=int(input('please input a number:'))\n",
    "        print('{}/{}={}'.format(x,y,x/y))\n",
    "        print('hello')\n",
    "    except (ZeroDivisionError,ValueError) as ex:\n",
    "        print(ex)\n",
    "    else:break"
   ]
  },
  {
   "cell_type": "code",
   "execution_count": 66,
   "metadata": {},
   "outputs": [
    {
     "name": "stdout",
     "output_type": "stream",
     "text": [
      "cleaning up....\n"
     ]
    },
    {
     "ename": "ZeroDivisionError",
     "evalue": "division by zero",
     "output_type": "error",
     "traceback": [
      "\u001b[1;31m---------------------------------------------------------------------------\u001b[0m",
      "\u001b[1;31mZeroDivisionError\u001b[0m                         Traceback (most recent call last)",
      "\u001b[1;32m<ipython-input-66-b91071bb908d>\u001b[0m in \u001b[0;36m<module>\u001b[1;34m()\u001b[0m\n\u001b[0;32m      1\u001b[0m \u001b[0mx\u001b[0m\u001b[1;33m=\u001b[0m\u001b[1;32mNone\u001b[0m\u001b[1;33m\u001b[0m\u001b[0m\n\u001b[0;32m      2\u001b[0m \u001b[1;32mtry\u001b[0m\u001b[1;33m:\u001b[0m\u001b[1;33m\u001b[0m\u001b[0m\n\u001b[1;32m----> 3\u001b[1;33m     \u001b[0mx\u001b[0m\u001b[1;33m=\u001b[0m\u001b[1;36m1\u001b[0m\u001b[1;33m/\u001b[0m\u001b[1;36m0\u001b[0m\u001b[1;33m\u001b[0m\u001b[0m\n\u001b[0m\u001b[0;32m      4\u001b[0m \u001b[1;32mfinally\u001b[0m\u001b[1;33m:\u001b[0m\u001b[1;33m\u001b[0m\u001b[0m\n\u001b[0;32m      5\u001b[0m     \u001b[0mprint\u001b[0m\u001b[1;33m(\u001b[0m\u001b[1;34m'cleaning up....'\u001b[0m\u001b[1;33m)\u001b[0m\u001b[1;31m#finally即使有错误，还是会出现的东西\u001b[0m\u001b[1;33m\u001b[0m\u001b[0m\n",
      "\u001b[1;31mZeroDivisionError\u001b[0m: division by zero"
     ]
    }
   ],
   "source": [
    "x=None\n",
    "try:\n",
    "    x=1/0\n",
    "finally:\n",
    "    print('cleaning up....')#finally即使有错误，还是会出现的东西\n",
    "  #  del x"
   ]
  },
  {
   "cell_type": "code",
   "execution_count": 67,
   "metadata": {},
   "outputs": [],
   "source": [
    "x"
   ]
  },
  {
   "cell_type": "code",
   "execution_count": 68,
   "metadata": {},
   "outputs": [
    {
     "name": "stdout",
     "output_type": "stream",
     "text": [
      "outer... before call inner\n",
      "inner...\n"
     ]
    },
    {
     "ename": "Exception",
     "evalue": "",
     "output_type": "error",
     "traceback": [
      "\u001b[1;31m---------------------------------------------------------------------------\u001b[0m",
      "\u001b[1;31mException\u001b[0m                                 Traceback (most recent call last)",
      "\u001b[1;32m<ipython-input-68-d32e1d93f40a>\u001b[0m in \u001b[0;36m<module>\u001b[1;34m()\u001b[0m\n\u001b[0;32m      6\u001b[0m     \u001b[0minner\u001b[0m\u001b[1;33m(\u001b[0m\u001b[1;33m)\u001b[0m\u001b[1;33m\u001b[0m\u001b[0m\n\u001b[0;32m      7\u001b[0m     \u001b[0mprint\u001b[0m\u001b[1;33m(\u001b[0m\u001b[1;34m'outer... before call inner'\u001b[0m\u001b[1;33m)\u001b[0m\u001b[1;33m\u001b[0m\u001b[0m\n\u001b[1;32m----> 8\u001b[1;33m \u001b[0mouter\u001b[0m\u001b[1;33m(\u001b[0m\u001b[1;33m)\u001b[0m\u001b[1;33m\u001b[0m\u001b[0m\n\u001b[0m",
      "\u001b[1;32m<ipython-input-68-d32e1d93f40a>\u001b[0m in \u001b[0;36mouter\u001b[1;34m()\u001b[0m\n\u001b[0;32m      4\u001b[0m \u001b[1;32mdef\u001b[0m \u001b[0mouter\u001b[0m\u001b[1;33m(\u001b[0m\u001b[1;33m)\u001b[0m\u001b[1;33m:\u001b[0m\u001b[1;33m\u001b[0m\u001b[0m\n\u001b[0;32m      5\u001b[0m     \u001b[0mprint\u001b[0m\u001b[1;33m(\u001b[0m\u001b[1;34m'outer... before call inner'\u001b[0m\u001b[1;33m)\u001b[0m\u001b[1;33m\u001b[0m\u001b[0m\n\u001b[1;32m----> 6\u001b[1;33m     \u001b[0minner\u001b[0m\u001b[1;33m(\u001b[0m\u001b[1;33m)\u001b[0m\u001b[1;33m\u001b[0m\u001b[0m\n\u001b[0m\u001b[0;32m      7\u001b[0m     \u001b[0mprint\u001b[0m\u001b[1;33m(\u001b[0m\u001b[1;34m'outer... before call inner'\u001b[0m\u001b[1;33m)\u001b[0m\u001b[1;33m\u001b[0m\u001b[0m\n\u001b[0;32m      8\u001b[0m \u001b[0mouter\u001b[0m\u001b[1;33m(\u001b[0m\u001b[1;33m)\u001b[0m\u001b[1;33m\u001b[0m\u001b[0m\n",
      "\u001b[1;32m<ipython-input-68-d32e1d93f40a>\u001b[0m in \u001b[0;36minner\u001b[1;34m()\u001b[0m\n\u001b[0;32m      1\u001b[0m \u001b[1;32mdef\u001b[0m \u001b[0minner\u001b[0m\u001b[1;33m(\u001b[0m\u001b[1;33m)\u001b[0m\u001b[1;33m:\u001b[0m\u001b[1;33m\u001b[0m\u001b[0m\n\u001b[0;32m      2\u001b[0m     \u001b[0mprint\u001b[0m\u001b[1;33m(\u001b[0m\u001b[1;34m'inner...'\u001b[0m\u001b[1;33m)\u001b[0m\u001b[1;33m\u001b[0m\u001b[0m\n\u001b[1;32m----> 3\u001b[1;33m     \u001b[1;32mraise\u001b[0m \u001b[0mException\u001b[0m\u001b[1;33m\u001b[0m\u001b[0m\n\u001b[0m\u001b[0;32m      4\u001b[0m \u001b[1;32mdef\u001b[0m \u001b[0mouter\u001b[0m\u001b[1;33m(\u001b[0m\u001b[1;33m)\u001b[0m\u001b[1;33m:\u001b[0m\u001b[1;33m\u001b[0m\u001b[0m\n\u001b[0;32m      5\u001b[0m     \u001b[0mprint\u001b[0m\u001b[1;33m(\u001b[0m\u001b[1;34m'outer... before call inner'\u001b[0m\u001b[1;33m)\u001b[0m\u001b[1;33m\u001b[0m\u001b[0m\n",
      "\u001b[1;31mException\u001b[0m: "
     ]
    }
   ],
   "source": [
    "def inner():\n",
    "    print('inner...')\n",
    "    raise Exception\n",
    "def outer():\n",
    "    print('outer... before call inner')\n",
    "    inner()\n",
    "    print('outer... before call inner')\n",
    "outer()"
   ]
  },
  {
   "cell_type": "code",
   "execution_count": null,
   "metadata": {},
   "outputs": [],
   "source": []
  }
 ],
 "metadata": {
  "kernelspec": {
   "display_name": "Python 3",
   "language": "python",
   "name": "python3"
  },
  "language_info": {
   "codemirror_mode": {
    "name": "ipython",
    "version": 3
   },
   "file_extension": ".py",
   "mimetype": "text/x-python",
   "name": "python",
   "nbconvert_exporter": "python",
   "pygments_lexer": "ipython3",
   "version": "3.6.5"
  }
 },
 "nbformat": 4,
 "nbformat_minor": 2
}
