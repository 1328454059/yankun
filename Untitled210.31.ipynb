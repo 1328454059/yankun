{
 "cells": [
  {
   "cell_type": "code",
   "execution_count": 2,
   "metadata": {},
   "outputs": [
    {
     "name": "stdout",
     "output_type": "stream",
     "text": [
      "54321"
     ]
    }
   ],
   "source": [
    "def print_number(n):#递归思想，如果我要写54321，则要有人先写4 ，以此类推。\n",
    "    print(n,end='')\n",
    "    if n>1:\n",
    "        print_number(n-1)\n",
    "print_number(5)"
   ]
  },
  {
   "cell_type": "code",
   "execution_count": 3,
   "metadata": {},
   "outputs": [
    {
     "name": "stdout",
     "output_type": "stream",
     "text": [
      "12345"
     ]
    }
   ],
   "source": [
    "def print_number(n):\n",
    "    if n>1:\n",
    "        print_number(n-1)\n",
    "    print(n,end='')\n",
    "print_number(5)"
   ]
  },
  {
   "cell_type": "code",
   "execution_count": 6,
   "metadata": {},
   "outputs": [
    {
     "name": "stdout",
     "output_type": "stream",
     "text": [
      "10946\n"
     ]
    }
   ],
   "source": [
    "def fib(i):\n",
    "    if i==1 or i==0:\n",
    "        return 1\n",
    "    else:\n",
    "        return fib(i-1)+fib(i-2)\n",
    "print(fib(20))"
   ]
  },
  {
   "cell_type": "code",
   "execution_count": 7,
   "metadata": {},
   "outputs": [
    {
     "name": "stdout",
     "output_type": "stream",
     "text": [
      "4.12 s ± 455 ms per loop (mean ± std. dev. of 7 runs, 1 loop each)\n"
     ]
    }
   ],
   "source": [
    "%timeit fib(33)"
   ]
  },
  {
   "cell_type": "code",
   "execution_count": 21,
   "metadata": {},
   "outputs": [],
   "source": [
    "cache=dict()  #cache是一个字典的缓存区，把fib算好的放进字典中，如果输i，可以直接从cache 里取相应的数值，如果cache里没有，则计算，并放入cache中。\n",
    "def fib_cached(i):\n",
    "    global cache\n",
    "    if i in (0,1):\n",
    "        return 1\n",
    "    else:\n",
    "        result=cache.get(i)\n",
    "        if result is None:\n",
    "            result=fib_cached(i-1)+fib_cached(i-2)\n",
    "            cached[i]=result\n",
    "        return result\n"
   ]
  },
  {
   "cell_type": "code",
   "execution_count": 22,
   "metadata": {},
   "outputs": [
    {
     "name": "stdout",
     "output_type": "stream",
     "text": [
      "262 ns ± 21.5 ns per loop (mean ± std. dev. of 7 runs, 10000000 loops each)\n"
     ]
    }
   ],
   "source": [
    "%timeit fib_cached(1)"
   ]
  },
  {
   "cell_type": "code",
   "execution_count": 25,
   "metadata": {},
   "outputs": [],
   "source": [
    "from functools import lru_cache#装饰器\n",
    "@lru_cache(maxsize=1000)\n",
    "def Fib(i):\n",
    "    if i==1 or i==0:\n",
    "        return 1\n",
    "    else:\n",
    "        return Fib(i-1)+Fib(i-2)\n",
    "    "
   ]
  },
  {
   "cell_type": "code",
   "execution_count": 26,
   "metadata": {},
   "outputs": [
    {
     "data": {
      "text/plain": [
       "<functools._lru_cache_wrapper at 0x1fe28d5a390>"
      ]
     },
     "execution_count": 26,
     "metadata": {},
     "output_type": "execute_result"
    }
   ],
   "source": [
    "Fib"
   ]
  },
  {
   "cell_type": "code",
   "execution_count": null,
   "metadata": {},
   "outputs": [],
   "source": [
    "fib(1000)"
   ]
  },
  {
   "cell_type": "code",
   "execution_count": null,
   "metadata": {},
   "outputs": [],
   "source": [
    "def hanoi(n,source,target,temp);\n",
    " if n==1:\n",
    "    print('{}->{}').format(source,target))\n",
    "    else:\n",
    "        hanoi(n-1,source,temp,target)\n",
    "        print('{}->{}').format(source,target))\n",
    "        hanoi(n-1,temp,target,source)\n",
    "hanoi(3,'a','c','b')        "
   ]
  },
  {
   "cell_type": "code",
   "execution_count": null,
   "metadata": {},
   "outputs": [],
   "source": [
    "for i in range(0,10)\n",
    "   print(i,end='')\n",
    "\n",
    "print('***')\n",
    "a=list(range(0,10))\n",
    "for item in a:\n",
    "    print(item,end='')"
   ]
  },
  {
   "cell_type": "code",
   "execution_count": null,
   "metadata": {},
   "outputs": [],
   "source": [
    "r=range(0,10)"
   ]
  },
  {
   "cell_type": "code",
   "execution_count": null,
   "metadata": {},
   "outputs": [],
   "source": [
    "r"
   ]
  },
  {
   "cell_type": "code",
   "execution_count": null,
   "metadata": {},
   "outputs": [],
   "source": [
    "def fib(i)：\n",
    "     result=(0,1)\n",
    "     second_last=0\n",
    "        last=1\n",
    "        for i in range(n-2):\n",
    "            second_last,last=last,second_last+last\n",
    "            result.append(last)\n",
    "return result\n",
    "print(fib(50))\n",
    "        "
   ]
  },
  {
   "cell_type": "code",
   "execution_count": null,
   "metadata": {},
   "outputs": [],
   "source": [
    "def fib_gen(n): # 生成器：循环执行一遍遍，就会吐出一个结果，而函数本身就挂在那里。省掉内存的开销。执行一个，走一个。\n",
    "    second_last=0\n",
    "    last=1\n",
    "    yield 0\n",
    "    yield 1\n",
    "    for i in range(n-2):\n",
    "        second_last,last=last,second_last+last\n",
    "        yield last\n",
    "for i in fib_gen(10):\n",
    "    print(i,end='')"
   ]
  },
  {
   "cell_type": "code",
   "execution_count": null,
   "metadata": {},
   "outputs": [],
   "source": [
    "nested=[[1,2][3,4],[5],6]#异常处理，6不是序列，会出错，我们提前把这个错误发生后要走的路写好。\n",
    "#[1,2,3,4,5]，没有加6 之前，两个循环，两层序列.\n",
    "\n",
    "def fatten(nested):\n",
    "    result=list()\n",
    "    for sublist in nested:\n",
    "        try:\n",
    "            for item in sublist:\n",
    "            result.append(item)\n",
    "        except TypeError:\n",
    "            result.append(sublist)\n",
    "    return result\n",
    "flatten_list=flatten(nested)\n",
    "print(flatten_list)"
   ]
  },
  {
   "cell_type": "code",
   "execution_count": null,
   "metadata": {},
   "outputs": [],
   "source": [
    "nested=[[1,[2,2.1]][3,4],[5],6]#异常处理，6不是序列，会出错，我们提前把这个错误发生后要走的路写好。\n",
    "#[1,2,3,4,5]，没有加6 之前，两个循环，两层序列.\n",
    "#加yield生成器\n",
    "def flatten(nested):\n",
    "    result=list()\n",
    "    for sublist in nested:\n",
    "        try:\n",
    "            for item in flatten(sublist):\n",
    "                yield item\n",
    "        except TypeError:\n",
    "                yield sublist\n",
    " \n",
    "\n",
    " flatten_list=flatten(nested)\n",
    "print(flatten_list)"
   ]
  },
  {
   "cell_type": "code",
   "execution_count": null,
   "metadata": {},
   "outputs": [],
   "source": [
    "for item in flatten_list:\n",
    "    print(item,end='')"
   ]
  },
  {
   "cell_type": "code",
   "execution_count": null,
   "metadata": {},
   "outputs": [],
   "source": [
    "#异常处理，6不是序列，会出错，我们提前把这个错误发生后要走的路写好。\n",
    "#[1,2,3,4,5]，没有加6 之前，两个循环，两层序列.\n",
    "#加flatten yield生成器\n",
    "def flatten(nested):\n",
    "    try:\n",
    "        try:nested+''\n",
    "        except TypeError:pass\n",
    "        else:raise TypeError\n",
    "    for sublist in nested:\n",
    "        try:\n",
    "            for item in flatten(sublist):\n",
    "                yield item\n",
    "        except TypeError:\n",
    "                yield sublist\n",
    "    except TypeError:\n",
    "         yield nested"
   ]
  },
  {
   "cell_type": "code",
   "execution_count": null,
   "metadata": {},
   "outputs": [],
   "source": [
    "nested=['hello',[1,[2,2.1]][3,4],[5],6]\n",
    "for item in flatten(nested):\n",
    "    print(item,end='')"
   ]
  },
  {
   "cell_type": "code",
   "execution_count": null,
   "metadata": {},
   "outputs": [],
   "source": [
    "def func(x):#filter会把seq的元素，放入func函数中，如果返回为真，（这里是字符或数字）则把这个元素生成出来，放入list中\n",
    "    return x.isalnum()\n",
    "seq=['hello','hddhi','41','?','***']\n",
    "list(filter(func,seq))"
   ]
  },
  {
   "cell_type": "code",
   "execution_count": null,
   "metadata": {},
   "outputs": [],
   "source": [
    "list(filter(lambda x:x.isalnum(),seq))#lambda函数的用法"
   ]
  },
  {
   "cell_type": "code",
   "execution_count": null,
   "metadata": {},
   "outputs": [],
   "source": [
    "[x for x in seq if x.isalnum()]\n"
   ]
  },
  {
   "cell_type": "code",
   "execution_count": null,
   "metadata": {},
   "outputs": [],
   "source": [
    "import functools"
   ]
  },
  {
   "cell_type": "code",
   "execution_count": null,
   "metadata": {},
   "outputs": [],
   "source": [
    "list(map(str,range(10)))"
   ]
  },
  {
   "cell_type": "code",
   "execution_count": null,
   "metadata": {},
   "outputs": [],
   "source": [
    "[str(i) for i in range(10)]"
   ]
  },
  {
   "cell_type": "code",
   "execution_count": null,
   "metadata": {},
   "outputs": [],
   "source": [
    "from functools import reduce\n",
    "numbers=[1,2,5,8,3,9,]\n",
    "reduce(lambda x,y:x+y,numbers)\n"
   ]
  },
  {
   "cell_type": "code",
   "execution_count": null,
   "metadata": {},
   "outputs": [],
   "source": [
    "\n",
    "\n",
    "def show_bar(bar):\n",
    "    for ch in bar：\n",
    "       print(ch,sep='',end='')\n",
    "    print('',end='\\r')\n",
    "\n",
    "def update_ants(ants):\n",
    "    for ant in ants:\n",
    "        ant['position']+=ant['direction']"
   ]
  }
 ],
 "metadata": {
  "kernelspec": {
   "display_name": "Python 3",
   "language": "python",
   "name": "python3"
  },
  "language_info": {
   "codemirror_mode": {
    "name": "ipython",
    "version": 3
   },
   "file_extension": ".py",
   "mimetype": "text/x-python",
   "name": "python",
   "nbconvert_exporter": "python",
   "pygments_lexer": "ipython3",
   "version": "3.6.5"
  }
 },
 "nbformat": 4,
 "nbformat_minor": 2
}
