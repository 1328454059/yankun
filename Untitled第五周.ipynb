{
 "cells": [
  {
   "cell_type": "code",
   "execution_count": 3,
   "metadata": {},
   "outputs": [
    {
     "ename": "SyntaxError",
     "evalue": "EOL while scanning string literal (<ipython-input-3-e445c385733f>, line 1)",
     "output_type": "error",
     "traceback": [
      "\u001b[1;36m  File \u001b[1;32m\"<ipython-input-3-e445c385733f>\"\u001b[1;36m, line \u001b[1;32m1\u001b[0m\n\u001b[1;33m    set=('\\n\\t\\'\\\" ,.()-)\u001b[0m\n\u001b[1;37m                         ^\u001b[0m\n\u001b[1;31mSyntaxError\u001b[0m\u001b[1;31m:\u001b[0m EOL while scanning string literal\n"
     ]
    }
   ],
   "source": [
    "set=('\\n\\t\\'\\\" ,.()-)\n",
    "for ch in sep:\n",
    "     text=text.replace(spe,'')\n",
    "words =text.lower().split('')\n",
    "     try:\n",
    "while true:\n",
    "    words.removes('')\n",
    "except:\n",
    "     pass\n",
    "\n",
    "count ={}#字典不能排序，他有自己的顺序\n",
    "for word in words:\n",
    "    count.setderfault(word,0)\n",
    "    count[word]+=1\n",
    "print(count)"
   ]
  },
  {
   "cell_type": "code",
   "execution_count": 4,
   "metadata": {
    "scrolled": true
   },
   "outputs": [
    {
     "ename": "NameError",
     "evalue": "name 'count' is not defined",
     "output_type": "error",
     "traceback": [
      "\u001b[1;31m---------------------------------------------------------------------------\u001b[0m",
      "\u001b[1;31mNameError\u001b[0m                                 Traceback (most recent call last)",
      "\u001b[1;32m<ipython-input-4-88a13742834e>\u001b[0m in \u001b[0;36m<module>\u001b[1;34m()\u001b[0m\n\u001b[0;32m      1\u001b[0m \u001b[0mwords_by_count\u001b[0m\u001b[1;33m=\u001b[0m\u001b[0mdict\u001b[0m\u001b[1;33m(\u001b[0m\u001b[1;33m)\u001b[0m\u001b[1;33m\u001b[0m\u001b[0m\n\u001b[1;32m----> 2\u001b[1;33m \u001b[1;32mfor\u001b[0m \u001b[0mword\u001b[0m \u001b[1;32min\u001b[0m \u001b[0mcount\u001b[0m\u001b[1;33m.\u001b[0m\u001b[0mkeys\u001b[0m\u001b[1;33m(\u001b[0m\u001b[1;33m)\u001b[0m\u001b[1;33m:\u001b[0m\u001b[1;33m\u001b[0m\u001b[0m\n\u001b[0m\u001b[0;32m      3\u001b[0m     \u001b[0mwords_by_count\u001b[0m\u001b[1;33m.\u001b[0m\u001b[0msetdefault\u001b[0m\u001b[1;33m(\u001b[0m\u001b[0mcount\u001b[0m\u001b[1;33m[\u001b[0m\u001b[0mword\u001b[0m\u001b[1;33m]\u001b[0m\u001b[1;33m,\u001b[0m\u001b[1;33m[\u001b[0m\u001b[1;33m]\u001b[0m\u001b[1;33m)\u001b[0m\u001b[1;33m\u001b[0m\u001b[0m\n\u001b[0;32m      4\u001b[0m     \u001b[0mwords_by_count\u001b[0m\u001b[1;33m[\u001b[0m\u001b[0mcount\u001b[0m\u001b[1;33m[\u001b[0m\u001b[0mword\u001b[0m\u001b[1;33m]\u001b[0m\u001b[1;33m]\u001b[0m\u001b[1;33m.\u001b[0m\u001b[0mappend\u001b[0m\u001b[1;33m(\u001b[0m\u001b[0mword\u001b[0m\u001b[1;33m)\u001b[0m\u001b[1;33m\u001b[0m\u001b[0m\n\u001b[0;32m      5\u001b[0m \u001b[0mprint\u001b[0m\u001b[1;33m(\u001b[0m\u001b[0mwords_by_count\u001b[0m\u001b[1;33m[\u001b[0m\u001b[1;36m5\u001b[0m\u001b[1;33m]\u001b[0m\u001b[1;33m)\u001b[0m\u001b[1;33m\u001b[0m\u001b[0m\n",
      "\u001b[1;31mNameError\u001b[0m: name 'count' is not defined"
     ]
    }
   ],
   "source": [
    "words_by_count=dict()\n",
    "for word in count.keys():\n",
    "    words_by_count.setdefault(count[word],[])\n",
    "    words_by_count[count[word]].append(word)\n",
    "print(words_by_count[5])"
   ]
  },
  {
   "cell_type": "code",
   "execution_count": 5,
   "metadata": {},
   "outputs": [],
   "source": [
    "for item in sorted(words_by_count.keys()):\n",
    "    print('count{}:'.format(item),end='')\n",
    "    for word in words_by_count[item]:\n",
    "        print(word,end=' ')\n",
    "    print('\\n')\n",
    "    "
   ]
  },
  {
   "cell_type": "code",
   "execution_count": 6,
   "metadata": {},
   "outputs": [
    {
     "data": {
      "text/plain": [
       "False"
      ]
     },
     "execution_count": 6,
     "metadata": {},
     "output_type": "execute_result"
    }
   ],
   "source": [
    "x=(1,2)\n",
    "y=(1,2)\n",
    "x is y"
   ]
  },
  {
   "cell_type": "code",
   "execution_count": 7,
   "metadata": {},
   "outputs": [
    {
     "data": {
      "text/plain": [
       "True"
      ]
     },
     "execution_count": 7,
     "metadata": {},
     "output_type": "execute_result"
    }
   ],
   "source": [
    "x='hello'\n",
    "y='hello'\n",
    "x is y\n"
   ]
  },
  {
   "cell_type": "code",
   "execution_count": 8,
   "metadata": {},
   "outputs": [
    {
     "name": "stdout",
     "output_type": "stream",
     "text": [
      "True\n",
      "[1, 2, 3]\n",
      "True\n"
     ]
    }
   ],
   "source": [
    "a=[1,2]\n",
    "b=a\n",
    "print(a is b)\n",
    "a+=[3]\n",
    "print(a)\n",
    "print(a is b)"
   ]
  },
  {
   "cell_type": "code",
   "execution_count": 9,
   "metadata": {},
   "outputs": [
    {
     "data": {
      "text/plain": [
       "[1, 2, 3]"
      ]
     },
     "execution_count": 9,
     "metadata": {},
     "output_type": "execute_result"
    }
   ],
   "source": [
    "b"
   ]
  },
  {
   "cell_type": "code",
   "execution_count": 10,
   "metadata": {},
   "outputs": [],
   "source": [
    "if a>b:\n",
    "    print(a)#四个空格\n",
    "    \n",
    "    "
   ]
  },
  {
   "cell_type": "code",
   "execution_count": 11,
   "metadata": {},
   "outputs": [
    {
     "data": {
      "text/plain": [
       "2"
      ]
     },
     "execution_count": 11,
     "metadata": {},
     "output_type": "execute_result"
    }
   ],
   "source": [
    "True+1"
   ]
  },
  {
   "cell_type": "code",
   "execution_count": 14,
   "metadata": {},
   "outputs": [
    {
     "data": {
      "text/plain": [
       "1"
      ]
     },
     "execution_count": 14,
     "metadata": {},
     "output_type": "execute_result"
    }
   ],
   "source": [
    "int(True) "
   ]
  },
  {
   "cell_type": "code",
   "execution_count": 15,
   "metadata": {},
   "outputs": [
    {
     "data": {
      "text/plain": [
       "True"
      ]
     },
     "execution_count": 15,
     "metadata": {},
     "output_type": "execute_result"
    }
   ],
   "source": [
    "bool(a)"
   ]
  },
  {
   "cell_type": "code",
   "execution_count": 16,
   "metadata": {},
   "outputs": [
    {
     "name": "stdout",
     "output_type": "stream",
     "text": [
      "your name please: yg\n",
      "hello,yg\n"
     ]
    }
   ],
   "source": [
    "name=input('your name please: ')\n",
    "if name:\n",
    "    print('hello,' +name)\n",
    "else:\n",
    "    print('you forget your name?')"
   ]
  },
  {
   "cell_type": "code",
   "execution_count": null,
   "metadata": {},
   "outputs": [],
   "source": [
    "name=input('your name please: ')\n",
    "if name:\n",
    "    print('hello,' +name)\n",
    "else:\n",
    "    print('you forget your name?')\n",
    "    "
   ]
  },
  {
   "cell_type": "code",
   "execution_count": null,
   "metadata": {},
   "outputs": [],
   "source": [
    "a=[1,2,3]\n",
    "1 in a"
   ]
  },
  {
   "cell_type": "code",
   "execution_count": null,
   "metadata": {},
   "outputs": [],
   "source": [
    "for i in range(0,10):\n",
    "    print('*',end='')"
   ]
  },
  {
   "cell_type": "code",
   "execution_count": null,
   "metadata": {},
   "outputs": [],
   "source": [
    "#判断一个年份是不是闰年\n",
    "year =int input('please input the year: ')\n",
    "if year %400==0:\n",
    "    print('leap year')\n",
    "elif year %100==0:\n",
    "    print('leap year')\n",
    "elif year%4==0:\n",
    "    print('leap year')\n",
    "else:\n",
    "    print('not leap year')"
   ]
  },
  {
   "cell_type": "code",
   "execution_count": null,
   "metadata": {},
   "outputs": [],
   "source": [
    "def leap_year(year):\n",
    "    assert(year>0)\n",
    "if year %400==0:\n",
    "    return True\n",
    "elif year %100==0:\n",
    "    return True\n",
    "elif year%4==0:\n",
    "    return True\n",
    "else:\n",
    "    return False\n",
    "\n",
    "\n",
    "year =int input('please input the year: ')\n",
    "if year<0:\n",
    "    print('Invalid year')\n",
    "else:\n",
    "    print('leap year'if leap_year(year) else 'not leap year')"
   ]
  },
  {
   "cell_type": "code",
   "execution_count": null,
   "metadata": {},
   "outputs": [],
   "source": [
    "assert(3==4)"
   ]
  },
  {
   "cell_type": "code",
   "execution_count": null,
   "metadata": {},
   "outputs": [],
   "source": [
    "assert(4=4)#在正常程序中，做函数前件的确认"
   ]
  },
  {
   "cell_type": "code",
   "execution_count": null,
   "metadata": {},
   "outputs": [],
   "source": [
    "#做测试的例子\n",
    "def leap_year(year):\n",
    "    assert(year>0)\n",
    "if year %400==0:\n",
    "    return True\n",
    "elif year %100==0:\n",
    "    return True\n",
    "elif year%4==0:\n",
    "    return True\n",
    "else:\n",
    "    return False\n",
    "assert(leap_year(2000))\n",
    "assert(leap_year(1980))\n",
    "assert(leap_year(1000)==False)\n",
    "assert(not leap_year(1987))\n",
    "print('test ok.')"
   ]
  },
  {
   "cell_type": "code",
   "execution_count": null,
   "metadata": {},
   "outputs": [],
   "source": [
    "def leap_year(year):\n",
    "    assert(year>0)\n",
    "if (year %400==0)or (year %4==0 and year%100):\n",
    "    return True\n",
    "else:\n",
    "    return False\n",
    "assert(leap_year(2000))\n",
    "assert(leap_year(1980))\n",
    "assert(leap_year(1000)==False)\n",
    "assert(not leap_year(1987))\n",
    "print('test ok.')"
   ]
  },
  {
   "cell_type": "code",
   "execution_count": null,
   "metadata": {},
   "outputs": [],
   "source": [
    "def leap_year(year):\n",
    "    assert(year>0)\n",
    "return (year %400==0)or (year %4==0 and year%100)\n",
    " \n",
    "assert(leap_year(2000))\n",
    "assert(leap_year(1980))\n",
    "assert(leap_year(1000)==False)\n",
    "assert(not leap_year(1987))\n",
    "print('test ok.')"
   ]
  },
  {
   "cell_type": "code",
   "execution_count": null,
   "metadata": {},
   "outputs": [],
   "source": [
    "#函数看字符的编码\n",
    "chr(128584)"
   ]
  },
  {
   "cell_type": "code",
   "execution_count": null,
   "metadata": {},
   "outputs": [],
   "source": [
    "for i in range(0,5):\n",
    "    print('*'*10)"
   ]
  },
  {
   "cell_type": "code",
   "execution_count": null,
   "metadata": {},
   "outputs": [],
   "source": [
    "i=0\n",
    "while<5:\n",
    "    print('*'*10)\n",
    "    i+=1\n"
   ]
  },
  {
   "cell_type": "code",
   "execution_count": null,
   "metadata": {},
   "outputs": [],
   "source": [
    "import math\n",
    "def wait():\n",
    "    y=0\n",
    "    while y<500000:\n",
    "        z=math.sin(x)*math.exp(x)\n",
    "        y+=1\n",
    "x=1\n",
    "while x<60:\n",
    "    print('\\b*',end='')\n",
    "    wait()\n",
    "    x+=1\n",
    "    "
   ]
  },
  {
   "cell_type": "code",
   "execution_count": null,
   "metadata": {},
   "outputs": [],
   "source": [
    "import math\n",
    "length=50\n",
    "def wait():\n",
    "    y=0\n",
    "    while y<500000:\n",
    "        z=math.sin(x)*math.exp(x)\n",
    "        y+=1\n",
    "bar=list()\n",
    "for i in range(0,length):\n",
    "    bar.append(' ')\n",
    "x=0\n",
    "y=79\n",
    "\n",
    "\n",
    "for in range(0,length):\n",
    "    bar[x]='*'\n",
    "    bar[y]='#'\n",
    "    for ch in bar: \n",
    "        print(ch,sep='',end='')\n",
    "    wait()\n",
    "    bar[x]=' '\n",
    "    bar[y]=' '\n",
    "    x+=1\n",
    "    y+=1\n",
    "    print('\\r',end='')"
   ]
  },
  {
   "cell_type": "code",
   "execution_count": null,
   "metadata": {},
   "outputs": [],
   "source": [
    "#表述蚂蚁的走路模型\n",
    "#不断重复这个模型"
   ]
  }
 ],
 "metadata": {
  "kernelspec": {
   "display_name": "Python 3",
   "language": "python",
   "name": "python3"
  },
  "language_info": {
   "codemirror_mode": {
    "name": "ipython",
    "version": 3
   },
   "file_extension": ".py",
   "mimetype": "text/x-python",
   "name": "python",
   "nbconvert_exporter": "python",
   "pygments_lexer": "ipython3",
   "version": "3.6.5"
  }
 },
 "nbformat": 4,
 "nbformat_minor": 2
}
