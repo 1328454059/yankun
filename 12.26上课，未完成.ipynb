{
 "cells": [
  {
   "cell_type": "code",
   "execution_count": 1,
   "metadata": {},
   "outputs": [
    {
     "ename": "SyntaxError",
     "evalue": "invalid syntax (<ipython-input-1-49d01b22a20e>, line 2)",
     "output_type": "error",
     "traceback": [
      "\u001b[1;36m  File \u001b[1;32m\"<ipython-input-1-49d01b22a20e>\"\u001b[1;36m, line \u001b[1;32m2\u001b[0m\n\u001b[1;33m    def__init__(self):\u001b[0m\n\u001b[1;37m                      ^\u001b[0m\n\u001b[1;31mSyntaxError\u001b[0m\u001b[1;31m:\u001b[0m invalid syntax\n"
     ]
    }
   ],
   "source": [
    "class Board:\n",
    "    def__init__(self):\n",
    "        self.__modle=[[0,0,0],[0,0,0],[0,0,0]]\n",
    "    def draw(self):\n",
    "        for row in self.__model:\n",
    "            for item in row:\n",
    "                if item ==-1:print('X',end='',sep='')\n",
    "                elif item ==1:print('O',end='',sep='')\n",
    "                else print('',end='',sep='')\n",
    "            print('')\n",
    "        print('----')\n",
    "    def get_model(self):\n",
    "        return self.__model\n",
    "    def add_move(self,position,):\n",
    "        if \n",
    "        retuen False\n",
    "        self.__model[position[0]position[1]]=color\n",
    "        pass\n",
    "class Player(ABC):\n",
    "    @abstractmethod\n",
    "    def move(self,model):\n",
    "        pass\n",
    "class humanplayer(Player):\n",
    "    def move(self,model):\n",
    "        row=int(input('row:'))\n",
    "        col=int(input('col:'))\n",
    "        return row,col\n",
    "        pass\n",
    "class Judge:\n",
    "    def judge(self,model):\n",
    "        for row in range(0,3):\n",
    "            if all([item==-1 for item in row]):\n",
    "                return GameResult\n",
    "    pass\n",
    "def test():\n",
    "    board=Board()\n",
    "    board.add_move((1,1),-1)\n",
    "    board.add_move((0,0),1)\n",
    "    board.draw()\n",
    "def run():\n",
    "    player=[Player(),Player()]\n",
    "    board=Board()\n",
    "    judge=Judge()\n",
    "    board.draw()\n",
    "    index=0\n",
    "    color=-1\n",
    "    while True:\n",
    "        position=players[index].move(board.get_model())\n",
    "        print(position)\n",
    "        board.add_move(position,color)\n",
    "        board.draw()\n",
    "        judge.judge()\n",
    "        result=judge.judge.judge(board.get_model())\n",
    "\n",
    "        index=1-index\n",
    "        color=-1*color\n",
    "    if result ==GameResult.Blackwin:\n",
    "        \n",
    "        \n",
    "if __name__='__main__':\n",
    "    run()"
   ]
  },
  {
   "cell_type": "code",
   "execution_count": null,
   "metadata": {},
   "outputs": [],
   "source": []
  }
 ],
 "metadata": {
  "kernelspec": {
   "display_name": "Python 3",
   "language": "python",
   "name": "python3"
  },
  "language_info": {
   "codemirror_mode": {
    "name": "ipython",
    "version": 3
   },
   "file_extension": ".py",
   "mimetype": "text/x-python",
   "name": "python",
   "nbconvert_exporter": "python",
   "pygments_lexer": "ipython3",
   "version": "3.6.5"
  }
 },
 "nbformat": 4,
 "nbformat_minor": 2
}
